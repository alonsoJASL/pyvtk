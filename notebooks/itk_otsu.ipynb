{
 "cells": [
  {
   "cell_type": "code",
   "execution_count": 12,
   "metadata": {},
   "outputs": [],
   "source": [
    "# init\n",
    "import itk\n",
    "import csv\n",
    "import sys\n",
    "\n",
    "inputImage = '/home/jsl19/Pictures/Nebulae.jpeg'\n",
    "outputImage = '/home/jsl19/Pictures/Nebulotsu.jpeg'\n",
    "numberOfHistogramBins = 50\n",
    "numberOfThresholds = 3\n",
    "labelOffset = 0\n",
    "\n",
    "PixelType = itk.UC\n",
    "Dimension = 2"
   ]
  },
  {
   "cell_type": "code",
   "execution_count": 31,
   "metadata": {},
   "outputs": [],
   "source": [
    "ImageType = itk.Image[PixelType, Dimension]\n",
    "\n",
    "reader = itk.ImageFileReader[ImageType].New()\n",
    "reader.SetFileName(inputImage)\n",
    "reader.Update()"
   ]
  },
  {
   "cell_type": "code",
   "execution_count": 34,
   "metadata": {},
   "outputs": [
    {
     "name": "stdout",
     "output_type": "stream",
     "text": [
      "(38.25764846801758, 89.26784896850586, 155.58110809326172)\n"
     ]
    },
    {
     "data": {
      "text/plain": [
       "193.8387565612793"
      ]
     },
     "execution_count": 34,
     "metadata": {},
     "output_type": "execute_result"
    }
   ],
   "source": [
    "thresholdFilter = itk.OtsuMultipleThresholdsImageFilter[ImageType, ImageType].New()\n",
    "thresholdFilter.SetInput(reader.GetOutput())\n",
    "\n",
    "thresholdFilter.SetNumberOfHistogramBins(numberOfHistogramBins)\n",
    "thresholdFilter.SetNumberOfThresholds(numberOfThresholds)\n",
    "thresholdFilter.SetLabelOffset(labelOffset)\n",
    "thresholdFilter.Update()\n",
    "\n",
    "thresholds = thresholdFilter.GetThresholds()\n",
    "print(thresholds)\n",
    "\n",
    "thresholds[0]+thresholds[2]"
   ]
  },
  {
   "cell_type": "code",
   "execution_count": 18,
   "metadata": {},
   "outputs": [],
   "source": [
    "rescaler = itk.RescaleIntensityImageFilter[ImageType, ImageType].New()\n",
    "rescaler.SetInput(thresholdFilter.GetOutput())\n",
    "rescaler.SetOutputMinimum(0)\n",
    "rescaler.SetOutputMaximum(255)\n",
    "\n",
    "writer = itk.ImageFileWriter[ImageType].New()\n",
    "writer.SetFileName(outputImage)\n",
    "writer.SetInput(rescaler.GetOutput())\n",
    "\n",
    "writer.Update()"
   ]
  }
 ],
 "metadata": {
  "kernelspec": {
   "display_name": "Python 3",
   "language": "python",
   "name": "python3"
  },
  "language_info": {
   "codemirror_mode": {
    "name": "ipython",
    "version": 3
   },
   "file_extension": ".py",
   "mimetype": "text/x-python",
   "name": "python",
   "nbconvert_exporter": "python",
   "pygments_lexer": "ipython3",
   "version": "3.7.1"
  }
 },
 "nbformat": 4,
 "nbformat_minor": 2
}
