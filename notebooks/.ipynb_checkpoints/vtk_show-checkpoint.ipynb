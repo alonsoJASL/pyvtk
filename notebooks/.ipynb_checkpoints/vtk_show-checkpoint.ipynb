{
 "cells": [
  {
   "cell_type": "markdown",
   "metadata": {},
   "source": [
    "# Render a VTK window of a sphere"
   ]
  },
  {
   "cell_type": "code",
   "execution_count": 5,
   "metadata": {},
   "outputs": [
    {
     "name": "stdout",
     "output_type": "stream",
     "text": [
      "Done\n"
     ]
    }
   ],
   "source": [
    "import numpy as np\n",
    "import vtk\n",
    "import itk\n",
    "from IPython.display import Image\n",
    "\n",
    "def vtk_show(renderer, width=400, height=300):\n",
    "    \"\"\"\n",
    "    Takes vtkRenderer instance and returns an \n",
    "    IPython Image with the rendering.\n",
    "    \"\"\"\n",
    "    renderWindow = vtk.vtkRenderWindow()\n",
    "    #renderWindow.SetOffScreenRendering(1)\n",
    "    renderWindow.AddRenderer(renderer)\n",
    "    renderWindow.SetSize(width, height)\n",
    "    renderWindow.Render()\n",
    "     \n",
    "print(\"Done\")"
   ]
  },
  {
   "cell_type": "code",
   "execution_count": 6,
   "metadata": {},
   "outputs": [],
   "source": [
    "VtkSourceSphere = vtk.vtkSphereSource()\n",
    "VtkSourceSphere.SetCenter(0.0, 0.0, 0.0)\n",
    "VtkSourceSphere.SetRadius(10.0)\n",
    "VtkSourceSphere.SetPhiResolution(360)\n",
    "VtkSourceSphere.SetThetaResolution(360)\n"
   ]
  },
  {
   "cell_type": "code",
   "execution_count": 7,
   "metadata": {},
   "outputs": [],
   "source": [
    "VtkMapperSphere = vtk.vtkPolyDataMapper()\n",
    "VtkMapperSphere.SetInputConnection(VtkSourceSphere.GetOutputPort())\n",
    "\n",
    "VtkActorSphere = vtk.vtkActor()\n",
    "VtkActorSphere.SetMapper(VtkMapperSphere)\n",
    "VtkActorSphere.GetProperty().SetColor(1.0, 0.0, 0.0)\n",
    "\n",
    "VtkRenderer = vtk.vtkRenderer()\n",
    "VtkRenderer.SetBackground(1.0, 1.0, 1.0)\n",
    "VtkRenderer.AddActor(VtkActorSphere)\n",
    "\n",
    "vtk_show(VtkRenderer)"
   ]
  },
  {
   "cell_type": "code",
   "execution_count": null,
   "metadata": {},
   "outputs": [],
   "source": []
  }
 ],
 "metadata": {
  "kernelspec": {
   "display_name": "Python 3",
   "language": "python",
   "name": "python3"
  },
  "language_info": {
   "codemirror_mode": {
    "name": "ipython",
    "version": 3
   },
   "file_extension": ".py",
   "mimetype": "text/x-python",
   "name": "python",
   "nbconvert_exporter": "python",
   "pygments_lexer": "ipython3",
   "version": "3.7.1"
  }
 },
 "nbformat": 4,
 "nbformat_minor": 2
}
