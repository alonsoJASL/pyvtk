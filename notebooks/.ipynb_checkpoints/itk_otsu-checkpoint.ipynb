{
 "cells": [
  {
   "cell_type": "code",
   "execution_count": 12,
   "metadata": {},
   "outputs": [],
   "source": [
    "# init\n",
    "import itk\n",
    "import csv\n",
    "import sys\n",
    "\n",
    "inputImage = '/home/jsl19/Pictures/Nebulae.jpeg'\n",
    "outputImage = '/home/jsl19/Pictures/Nebulotsu.jpeg'\n",
    "numberOfHistogramBins = 50\n",
    "numberOfThresholds = 3\n",
    "labelOffset = 0\n",
    "\n",
    "PixelType = itk.UC\n",
    "Dimension = 2"
   ]
  },
  {
   "cell_type": "code",
   "execution_count": 31,
   "metadata": {},
   "outputs": [],
   "source": [
    "ImageType = itk.Image[PixelType, Dimension]\n",
    "\n",
    "reader = itk.ImageFileReader[ImageType].New()\n",
    "reader.SetFileName(inputImage)\n",
    "reader.Update()"
   ]
  },
  {
   "cell_type": "code",
   "execution_count": 32,
   "metadata": {},
   "outputs": [
    {
     "name": "stdout",
     "output_type": "stream",
     "text": [
      "(38.25764846801758, 89.26784896850586, 155.58110809326172)\n",
      "OtsuMultipleThresholdsImageFilter (0x5563eb4409d0)\n",
      "  RTTI typeinfo:   itk::OtsuMultipleThresholdsImageFilter<itk::Image<unsigned char, 2u>, itk::Image<unsigned char, 2u> >\n",
      "  Reference Count: 1\n",
      "  Modified Time: 2934\n",
      "  Debug: Off\n",
      "  Object Name: \n",
      "  Observers: \n",
      "    none\n",
      "  Inputs: \n",
      "    Primary: (0x5563e899e540) *\n",
      "  Indexed Inputs: \n",
      "    0: Primary (0x5563e899e540)\n",
      "  Required Input Names: Primary\n",
      "  NumberOfRequiredInputs: 1\n",
      "  Outputs: \n",
      "    Primary: (0x5563eb2f7e50)\n",
      "  Indexed Outputs: \n",
      "    0: Primary (0x5563eb2f7e50)\n",
      "  NumberOfRequiredOutputs: 1\n",
      "  Number Of Threads: 20\n",
      "  ReleaseDataFlag: Off\n",
      "  ReleaseDataBeforeUpdateFlag: Off\n",
      "  AbortGenerateData: Off\n",
      "  Progress: 1\n",
      "  Multithreader: \n",
      "    RTTI typeinfo:   itk::MultiThreader\n",
      "    Reference Count: 1\n",
      "    Modified Time: 2920\n",
      "    Debug: Off\n",
      "    Object Name: \n",
      "    Observers: \n",
      "      none\n",
      "    Thread Count: 20\n",
      "    Global Maximum Number Of Threads: 128\n",
      "    Global Default Number Of Threads: 20\n",
      "  CoordinateTolerance: 1e-06\n",
      "  DirectionTolerance: 1e-06\n",
      "  NumberOfHistogramBins: 50\n",
      "  NumberOfThresholds: 3\n",
      "  LabelOffset: \u0000\n",
      "  Thresholds: \n",
      "\tThreshold #0: 38\n",
      "\tThreshold #1: 89\n",
      "\tThreshold #2: 155\n",
      "\n"
     ]
    }
   ],
   "source": [
    "thresholdFilter = itk.OtsuMultipleThresholdsImageFilter[ImageType, ImageType].New()\n",
    "thresholdFilter.SetInput(reader.GetOutput())\n",
    "\n",
    "thresholdFilter.SetNumberOfHistogramBins(numberOfHistogramBins)\n",
    "thresholdFilter.SetNumberOfThresholds(numberOfThresholds)\n",
    "thresholdFilter.SetLabelOffset(labelOffset)\n",
    "thresholdFilter.Update()\n",
    "\n",
    "thresholds = thresholdFilter.GetThresholds()\n",
    "print(thresholds)\n",
    "\n",
    "help(thresholds)"
   ]
  },
  {
   "cell_type": "code",
   "execution_count": 18,
   "metadata": {},
   "outputs": [],
   "source": [
    "rescaler = itk.RescaleIntensityImageFilter[ImageType, ImageType].New()\n",
    "rescaler.SetInput(thresholdFilter.GetOutput())\n",
    "rescaler.SetOutputMinimum(0)\n",
    "rescaler.SetOutputMaximum(255)\n",
    "\n",
    "writer = itk.ImageFileWriter[ImageType].New()\n",
    "writer.SetFileName(outputImage)\n",
    "writer.SetInput(rescaler.GetOutput())\n",
    "\n",
    "writer.Update()"
   ]
  }
 ],
 "metadata": {
  "kernelspec": {
   "display_name": "Python 3",
   "language": "python",
   "name": "python3"
  },
  "language_info": {
   "codemirror_mode": {
    "name": "ipython",
    "version": 3
   },
   "file_extension": ".py",
   "mimetype": "text/x-python",
   "name": "python",
   "nbconvert_exporter": "python",
   "pygments_lexer": "ipython3",
   "version": "3.7.1"
  }
 },
 "nbformat": 4,
 "nbformat_minor": 2
}
